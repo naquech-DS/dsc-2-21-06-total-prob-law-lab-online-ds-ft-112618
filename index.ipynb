{
 "cells": [
  {
   "cell_type": "markdown",
   "metadata": {},
   "source": [
    "# Partitioning and Law of Total Probabilities - Lab\n",
    "\n",
    "## Introduction \n",
    "In this lab, we shall look at the law of total probability. In probability theory, the law (or formula) of total probability is a fundamental rule relating **marginal probabilities** to conditional probabilities. It expresses the total probability of an outcome which can be realized via several distinct events, hence the name.\n",
    "\n",
    "## Objectives\n",
    "\n",
    "You will be able to:\n",
    "* Understand and explain the concept of event space and partitioning \n",
    "* State the law of total probabilities based on a partitioned event space\n",
    "* Understand and able to perform partitioning based on known and unknown probabilities to solve a problem"
   ]
  },
  {
   "cell_type": "markdown",
   "metadata": {},
   "source": [
    "## Exercise 1\n",
    "Suppose we have two hats: one has 4 red balls and 6 green balls, the other has 6 red and 4 green. We toss a fair coin, if heads, pick a random ball from the first hat, if tails from the second. \n",
    "\n",
    "What is the probability of getting a red ball?"
   ]
  },
  {
   "cell_type": "code",
   "execution_count": 1,
   "metadata": {},
   "outputs": [
    {
     "name": "stdout",
     "output_type": "stream",
     "text": [
      "50.0\n"
     ]
    }
   ],
   "source": [
    "#probability tree:\n",
    "# coin 1/2 ----- head 4/10\n",
    "#         |----- tail 6/10\n",
    "\n",
    "p_red = (0.5*0.4) + (0.5*0.6)\n",
    "print(p_red * 100)"
   ]
  },
  {
   "cell_type": "markdown",
   "metadata": {},
   "source": [
    "## Exercise 2\n",
    "A soccer team wins 60% of its games when it scores the first goal, and 10% of its games when the opposing team \n",
    "scores first. \n",
    "\n",
    "If the team scores the first goal about 30% of the time, what fraction of the games does it win?"
   ]
  },
  {
   "cell_type": "code",
   "execution_count": 2,
   "metadata": {},
   "outputs": [
    {
     "name": "stdout",
     "output_type": "stream",
     "text": [
      "0.25\n"
     ]
    }
   ],
   "source": [
    "# first goal ---- 0.6 ---- 0.3\n",
    "# opp. team. ---- 0.1 ---- 0.7\n",
    "\n",
    "win_fraction = (0.6*0.3) + (0.1*0.7)\n",
    "print(win_fraction) #1/4"
   ]
  },
  {
   "cell_type": "markdown",
   "metadata": {},
   "source": [
    "## Exercise 3"
   ]
  },
  {
   "cell_type": "markdown",
   "metadata": {},
   "source": [
    "In Europe, except for regular gas, cars regularly run on Diesel as well. At a gas station in Paris; \n",
    "\n",
    "\n",
    "* 40% of the customers fills up with Diesel (event G1) \n",
    "* 35% with gas \"Super 95\" (event G2)\n",
    "* 25% with gas \"Super 98\" (event G3). \n",
    "\n",
    "\n",
    "* 30% of the customers who buy Diesel fill their tank completely (event F). \n",
    "* For \"Super 95\" and \"Super 98\", these numbers are  60% and 50% respectively.\n",
    "\n",
    "\n",
    "- Compute the probability that the next customer completely fills their tank and buys Super 95. \n",
    "- Compute the probability that the next customer completely fills their tank\n",
    "- Given that the next customer fills their tank completely, compute the probability that they bought Diesel. \n",
    "\n",
    "Hint: Consult the theorems for conditional probability, check for dependence or independence of events"
   ]
  },
  {
   "cell_type": "code",
   "execution_count": 5,
   "metadata": {},
   "outputs": [
    {
     "name": "stdout",
     "output_type": "stream",
     "text": [
      "Customer completely fills their tank and buys Super 95: 21.0\n",
      "Probability that the next customer completely fills their tank:  45.49999999999999\n",
      "Probability that next customer bought Diesel given that they filled the tank:  0.2637362637362638\n"
     ]
    }
   ],
   "source": [
    "# probability tree\n",
    "# 100% ------|---- 40% (G1) ----- 30% (F)\n",
    "#            |---- 35% (G2) ----- 60% (F)\n",
    "#            |---- 25% (G3) ----- 50% (F)\n",
    "\n",
    "\n",
    "#Compute the probability that the next customer completely fills their tank and buys Super 95.\n",
    "prob1 = (0.35*0.6)*100\n",
    "print('Customer completely fills their tank and buys Super 95:', prob1)\n",
    "\n",
    "#Compute the probability that the next customer completely fills their tank\n",
    "g1f = 0.4*0.3\n",
    "g2f = 0.35*0.6\n",
    "g3f = 0.25*0.5\n",
    "\n",
    "prob2 = (g1f + g2f + g3f)*100\n",
    "print('Probability that the next customer completely fills their tank: ', prob2)\n",
    "\n",
    "#Given that the next customer fills their tank completely, compute the probability that they bought Diesel.\n",
    "#P(F|G1)\n",
    "num = (0.4*0.3)\n",
    "den = prob2\n",
    "\n",
    "prob3 = (num/den)*100\n",
    "print('Probability that next customer bought Diesel given that they filled the tank: ', prob3)"
   ]
  },
  {
   "cell_type": "markdown",
   "metadata": {},
   "source": [
    "## Exercise 4"
   ]
  },
  {
   "cell_type": "markdown",
   "metadata": {},
   "source": [
    "United airlines operates flights from JFK to Amsterdam, to Brussels and to Copenhagen. As you might know, flights are overbooked fairly often. Let's denote the probability of the flight to Amsterdam being overbooked equal to 40%, the probability of the flight to Brussels being overbooked equal to 25%, and the probability of the flight to Copenhagen to be overbooked being equal to 35%. "
   ]
  },
  {
   "cell_type": "markdown",
   "metadata": {},
   "source": [
    "- Compute the probability that all the flights are overbooked.\n",
    "- Compute the probability of having at least one flight which is not overbooked.\n",
    "- Compute the probability that exactly one flight is overbooked.\n",
    "\n",
    "Hint: Consult the theorems for conditional probability, check for dependence or independence of events"
   ]
  },
  {
   "cell_type": "code",
   "execution_count": 7,
   "metadata": {},
   "outputs": [
    {
     "name": "stdout",
     "output_type": "stream",
     "text": [
      "3.4999999999999996\n"
     ]
    }
   ],
   "source": [
    "# Compute the probability that all the flights are overbooked.\n",
    "pAll = 0.4 * 0.25 * 0.35\n",
    "print(pAll*100)"
   ]
  },
  {
   "cell_type": "code",
   "execution_count": 8,
   "metadata": {},
   "outputs": [
    {
     "name": "stdout",
     "output_type": "stream",
     "text": [
      "96.5\n"
     ]
    }
   ],
   "source": [
    "#Compute the probability of having at least one flight which is not overbooked\n",
    "notOverBooked = 1-pAll\n",
    "print(notOverBooked * 100)"
   ]
  },
  {
   "cell_type": "code",
   "execution_count": 9,
   "metadata": {},
   "outputs": [
    {
     "name": "stdout",
     "output_type": "stream",
     "text": [
      "45.00000000000001\n"
     ]
    }
   ],
   "source": [
    "#Compute the probability that exactly one flight is overbooked.\n",
    "pAmsOver = 0.4*(1-0.25)*(1-0.35)\n",
    "pBrusOver = 0.25*(1-0.4)*(1-0.35)\n",
    "pCopOver = 0.35*(1-0.4)*(1-0.25)\n",
    "\n",
    "pJustOne = pAmsOver + pBrusOver + pCopOver\n",
    "\n",
    "print(pJustOne*100)"
   ]
  },
  {
   "cell_type": "markdown",
   "metadata": {},
   "source": [
    "## Exercise 5\n",
    "You have three bags that each contain 100 marbles:\n",
    "\n",
    "- Bag 1 has 75 red and 25 blue marbles;\n",
    "- Bag 2 has 60 red and 40 blue marbles;\n",
    "- Bag 3 has 45 red and 55 blue marbles.\n",
    "\n",
    "You choose one of the bags at random and then pick a marble from the chosen bag, also at random. \n",
    "\n",
    "What is the probability that the chosen marble is red?\n"
   ]
  },
  {
   "cell_type": "code",
   "execution_count": 17,
   "metadata": {},
   "outputs": [],
   "source": [
    "# probability tree\n",
    "# B1 -----|--- 75r\n",
    "#         |--- 25b\n",
    "# B2 -----|--- 60r\n",
    "#         |--- 40b\n",
    "# B3 -----|--- 45r\n",
    "#         |--- 55b"
   ]
  },
  {
   "cell_type": "code",
   "execution_count": 10,
   "metadata": {},
   "outputs": [
    {
     "name": "stdout",
     "output_type": "stream",
     "text": [
      "60.0\n"
     ]
    }
   ],
   "source": [
    "pRed = 1/3 * (0.75 + 0.6 + 0.45)\n",
    "print(pRed * 100)"
   ]
  },
  {
   "cell_type": "markdown",
   "metadata": {},
   "source": [
    "## Summary \n",
    "\n",
    "In this lab we practiced around conditional probability and its theorem with some simple problems. The key takeaway from this lab is to to be able to identify random events as dependent or independent and calculating the probability of their occurrence using appropriate methods. Next we'll start focusing on the Bayes theorem, building on the knowledge we have thus far. "
   ]
  },
  {
   "cell_type": "code",
   "execution_count": null,
   "metadata": {},
   "outputs": [],
   "source": []
  }
 ],
 "metadata": {
  "kernelspec": {
   "display_name": "Python 3",
   "language": "python",
   "name": "python3"
  },
  "language_info": {
   "codemirror_mode": {
    "name": "ipython",
    "version": 3
   },
   "file_extension": ".py",
   "mimetype": "text/x-python",
   "name": "python",
   "nbconvert_exporter": "python",
   "pygments_lexer": "ipython3",
   "version": "3.6.6"
  }
 },
 "nbformat": 4,
 "nbformat_minor": 2
}
